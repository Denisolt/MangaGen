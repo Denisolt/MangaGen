{
 "cells": [
  {
   "cell_type": "code",
   "execution_count": 1,
   "metadata": {},
   "outputs": [],
   "source": [
    "import os\n",
    "import shutil\n",
    "from PIL import Image"
   ]
  },
  {
   "cell_type": "code",
   "execution_count": 2,
   "metadata": {},
   "outputs": [
    {
     "name": "stdout",
     "output_type": "stream",
     "text": [
      "Successful\n"
     ]
    }
   ],
   "source": [
    "# folder 'images' is created and\n",
    "# video will be split into frames\n",
    "# also we will create a folder for the gif output here as well\n",
    "try:\n",
    "    os.system(\"mkdir images\")\n",
    "    os.system(\"ffmpeg -i anime.mov -vf fps=4/1 images/out%d.png\")\n",
    "    os.system(\"mkdir gifs\")\n",
    "    print('Successful')\n",
    "except:\n",
    "    print('Error Occured')"
   ]
  },
  {
   "cell_type": "code",
   "execution_count": 3,
   "metadata": {},
   "outputs": [],
   "source": [
    "# initializing the variables\n",
    "images = []\n",
    "page_count = 1\n",
    "counter = 1\n",
    "i = 1\n",
    "# I have still haven't figuired out a proper way to count the total number\n",
    "# of the generated images, therefore you have to input manually for now\n",
    "total_number_of_frames = 315\n",
    "# folder manga_pages will be generated\n",
    "if not os.path.exists(\"manga_pages\"):\n",
    "    os.system(\"mkdir manga_pages\")\n",
    "    \n",
    "while(i < total_number_of_frames):\n",
    "    # a template will be picked to add the images\n",
    "    template = Image.open(\"templates/template.png\")\n",
    "    try:\n",
    "        im = Image.open(\"images/out\"+ str(i) + \".png\") #first image\n",
    "    except FileNotFoundError:\n",
    "        im = Image.open('templates/frame_1.png') #if image doesn't exist, it will have white window\n",
    "    # changing the size to fit the frame of the template\n",
    "    size = 710, 351\n",
    "    im = im.resize(size, resample=0)\n",
    "    template.paste(im,(35,28))\n",
    "    # pasting the image into a frame\n",
    "    \n",
    "    try:\n",
    "        im2 = Image.open(\"images/out\"+ str(40 + i) + \".png\") #second image\n",
    "    except FileNotFoundError:\n",
    "        im2 = Image.open(\"templates/frame_2.png\") #if image doesn't exist, it will have white window\n",
    "    # changing the size to fit the frame of the template\n",
    "    size2 = 709, 306\n",
    "    im2 = im2.resize(size2, resample=0)\n",
    "    template.paste(im2,(37,399))\n",
    "    # pasting the image into a frame\n",
    "\n",
    "    try:\n",
    "        im3 = Image.open(\"images/out\"+ str(80 + i) + \".png\") #second image\n",
    "    except FileNotFoundError:\n",
    "        im3 = Image.open(\"templates/frame_3.png\") #if image doesn't exist, it will have white window\n",
    "    #changing the size to fit the frame of the template\n",
    "    size3 = 710, 245\n",
    "    im3 = im3.resize(size3, resample=0)\n",
    "    template.paste(im3,(35,732))\n",
    "    # pasting the image into a frame\n",
    "\n",
    "    images.append(template)\n",
    "    # a generated template image is added to the list 'images'\n",
    "    \n",
    "    # each folder or gif will have 40 frames\n",
    "    if(counter == 40):\n",
    "        # we use ffmpeg to create a video and turn video into a gif\n",
    "        try:\n",
    "            os.system('ffmpeg -framerate 10 -i manga_pages/page%d.png output.mp4')\n",
    "            os.system('ffmpeg -t 15 -i output.mp4 gifs/manga_page'+str(page_count)+'.gif -hide_banner')\n",
    "            # cleaning up, deleting the video, since it is not needed\n",
    "            os.remove('output.mp4')\n",
    "        except:\n",
    "            print('Error while generating the gif')\n",
    "        # we want to change the counter value, so it counts again till 40 frames\n",
    "        # and add 80 to 'i' since we do not want to have repeating images\n",
    "        page_count += 1\n",
    "        counter = 0\n",
    "        i += 80\n",
    "        \n",
    "    else:\n",
    "        # images are saved into folder manga_pages\n",
    "        template.save(\"manga_pages/page\" + str(counter) + \".png\")\n",
    "        counter += 1\n",
    "        i += 1"
   ]
  },
  {
   "cell_type": "code",
   "execution_count": 4,
   "metadata": {},
   "outputs": [],
   "source": [
    "# time to clean up, deleting the folders manga_pages and images\n",
    "shutil.rmtree('manga_pages')\n",
    "shutil.rmtree('images')"
   ]
  },
  {
   "cell_type": "code",
   "execution_count": 5,
   "metadata": {
    "collapsed": true
   },
   "outputs": [],
   "source": [
    "# a quick note on how ffmpeg works:\n",
    "# if you already have generated file using ffmpeg,\n",
    "# it will throw an error, if succesfull, it will return 0\n",
    "# therefore, if you generated the gifs, and try to generated them again, \n",
    "# it will return an Error, make sure to either move the files or delete them. "
   ]
  }
 ],
 "metadata": {
  "kernelspec": {
   "display_name": "Python 3",
   "language": "python",
   "name": "python3"
  },
  "language_info": {
   "codemirror_mode": {
    "name": "ipython",
    "version": 3
   },
   "file_extension": ".py",
   "mimetype": "text/x-python",
   "name": "python",
   "nbconvert_exporter": "python",
   "pygments_lexer": "ipython3",
   "version": "3.6.1"
  }
 },
 "nbformat": 4,
 "nbformat_minor": 2
}
